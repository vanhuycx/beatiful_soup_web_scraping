{
 "cells": [
  {
   "cell_type": "code",
   "execution_count": 1,
   "metadata": {},
   "outputs": [],
   "source": [
    "# Import necessary libraries\n",
    "import pyodbc\n",
    "import numpy as np\n",
    "import pandas as pd"
   ]
  },
  {
   "cell_type": "code",
   "execution_count": 2,
   "metadata": {},
   "outputs": [
    {
     "name": "stdout",
     "output_type": "stream",
     "text": [
      "The Books database from SqlServer is connected. Completing reading Books table.\n",
      "The SqlServer connection is closed\n"
     ]
    }
   ],
   "source": [
    "# Connect to SQL server and connect to Books table. Assign the table data to a pandas DataFrame.\n",
    "Server = 'DESKTOP-13K0I1P'\n",
    "try:\n",
    "    sqlServerConnection = pyodbc.connect('Driver={SQL Server};'\n",
    "                      f'Server={Server};'\n",
    "                      'Database=Books;'\n",
    "                      'Trusted_Connection=yes;')\n",
    "    SQL_read_query = pd.read_sql_query('SELECT * FROM Books', sqlServerConnection)\n",
    "\n",
    "    # Create cursor connection to db\n",
    "    df = pd.DataFrame(SQL_read_query, columns=['title', 'price', 'in_stock', 'rating', 'genre', 'upc', 'description'])\n",
    "    print(\"The Books database from SqlServer is connected. Completing reading Books table.\")\n",
    "except pyodbc.Error as error:\n",
    "    print(\"Error while connecting to SqlServer - \", error)\n",
    "finally:\n",
    "    if sqlServerConnection:\n",
    "        sqlServerConnection.close()\n",
    "        print(\"The SqlServer connection is closed\")\n"
   ]
  },
  {
   "cell_type": "code",
   "execution_count": 3,
   "metadata": {},
   "outputs": [
    {
     "data": {
      "text/html": [
       "<div>\n",
       "<style scoped>\n",
       "    .dataframe tbody tr th:only-of-type {\n",
       "        vertical-align: middle;\n",
       "    }\n",
       "\n",
       "    .dataframe tbody tr th {\n",
       "        vertical-align: top;\n",
       "    }\n",
       "\n",
       "    .dataframe thead th {\n",
       "        text-align: right;\n",
       "    }\n",
       "</style>\n",
       "<table border=\"1\" class=\"dataframe\">\n",
       "  <thead>\n",
       "    <tr style=\"text-align: right;\">\n",
       "      <th></th>\n",
       "      <th>title</th>\n",
       "      <th>price</th>\n",
       "      <th>in_stock</th>\n",
       "      <th>rating</th>\n",
       "      <th>genre</th>\n",
       "      <th>upc</th>\n",
       "      <th>description</th>\n",
       "    </tr>\n",
       "  </thead>\n",
       "  <tbody>\n",
       "    <tr>\n",
       "      <th>0</th>\n",
       "      <td>A Light in the Attic</td>\n",
       "      <td>51.770000</td>\n",
       "      <td>22</td>\n",
       "      <td>three</td>\n",
       "      <td>Poetry</td>\n",
       "      <td>a897fe39b1053632</td>\n",
       "      <td>It&amp;#39;s hard to imagine a world without A Lig...</td>\n",
       "    </tr>\n",
       "    <tr>\n",
       "      <th>1</th>\n",
       "      <td>Tipping the Velvet</td>\n",
       "      <td>53.740002</td>\n",
       "      <td>20</td>\n",
       "      <td>one</td>\n",
       "      <td>Historical Fiction</td>\n",
       "      <td>90fa61229261140a</td>\n",
       "      <td>\"Erotic and absorbing...Written with starling ...</td>\n",
       "    </tr>\n",
       "    <tr>\n",
       "      <th>2</th>\n",
       "      <td>Soumission</td>\n",
       "      <td>50.099998</td>\n",
       "      <td>20</td>\n",
       "      <td>one</td>\n",
       "      <td>Fiction</td>\n",
       "      <td>6957f44c3847a760</td>\n",
       "      <td>Dans une France assez proche de la nÃ´tre, un ...</td>\n",
       "    </tr>\n",
       "    <tr>\n",
       "      <th>3</th>\n",
       "      <td>Sharp Objects</td>\n",
       "      <td>47.820000</td>\n",
       "      <td>20</td>\n",
       "      <td>four</td>\n",
       "      <td>Mystery</td>\n",
       "      <td>e00eb4fd7b871a48</td>\n",
       "      <td>WICKED above her hipbone, GIRL across her hear...</td>\n",
       "    </tr>\n",
       "    <tr>\n",
       "      <th>4</th>\n",
       "      <td>Sapiens: A Brief History of Humankind</td>\n",
       "      <td>54.230000</td>\n",
       "      <td>20</td>\n",
       "      <td>five</td>\n",
       "      <td>History</td>\n",
       "      <td>4165285e1663650f</td>\n",
       "      <td>From a renowned historian comes a groundbreaki...</td>\n",
       "    </tr>\n",
       "  </tbody>\n",
       "</table>\n",
       "</div>"
      ],
      "text/plain": [
       "                                   title      price  in_stock rating  \\\n",
       "0                   A Light in the Attic  51.770000        22  three   \n",
       "1                     Tipping the Velvet  53.740002        20    one   \n",
       "2                             Soumission  50.099998        20    one   \n",
       "3                          Sharp Objects  47.820000        20   four   \n",
       "4  Sapiens: A Brief History of Humankind  54.230000        20   five   \n",
       "\n",
       "                genre               upc  \\\n",
       "0              Poetry  a897fe39b1053632   \n",
       "1  Historical Fiction  90fa61229261140a   \n",
       "2             Fiction  6957f44c3847a760   \n",
       "3             Mystery  e00eb4fd7b871a48   \n",
       "4             History  4165285e1663650f   \n",
       "\n",
       "                                         description  \n",
       "0  It&#39;s hard to imagine a world without A Lig...  \n",
       "1  \"Erotic and absorbing...Written with starling ...  \n",
       "2  Dans une France assez proche de la nÃ´tre, un ...  \n",
       "3  WICKED above her hipbone, GIRL across her hear...  \n",
       "4  From a renowned historian comes a groundbreaki...  "
      ]
     },
     "execution_count": 3,
     "metadata": {},
     "output_type": "execute_result"
    }
   ],
   "source": [
    "df.head()"
   ]
  },
  {
   "cell_type": "code",
   "execution_count": 5,
   "metadata": {},
   "outputs": [
    {
     "name": "stdout",
     "output_type": "stream",
     "text": [
      "<class 'pandas.core.frame.DataFrame'>\n",
      "RangeIndex: 1000 entries, 0 to 999\n",
      "Data columns (total 7 columns):\n",
      " #   Column       Non-Null Count  Dtype  \n",
      "---  ------       --------------  -----  \n",
      " 0   title        1000 non-null   object \n",
      " 1   price        1000 non-null   float64\n",
      " 2   in_stock     1000 non-null   int64  \n",
      " 3   rating       1000 non-null   object \n",
      " 4   genre        1000 non-null   object \n",
      " 5   upc          1000 non-null   object \n",
      " 6   description  1000 non-null   object \n",
      "dtypes: float64(1), int64(1), object(5)\n",
      "memory usage: 54.8+ KB\n"
     ]
    }
   ],
   "source": [
    "df.info()"
   ]
  },
  {
   "cell_type": "code",
   "execution_count": 4,
   "metadata": {},
   "outputs": [
    {
     "data": {
      "text/html": [
       "<div>\n",
       "<style scoped>\n",
       "    .dataframe tbody tr th:only-of-type {\n",
       "        vertical-align: middle;\n",
       "    }\n",
       "\n",
       "    .dataframe tbody tr th {\n",
       "        vertical-align: top;\n",
       "    }\n",
       "\n",
       "    .dataframe thead th {\n",
       "        text-align: right;\n",
       "    }\n",
       "</style>\n",
       "<table border=\"1\" class=\"dataframe\">\n",
       "  <thead>\n",
       "    <tr style=\"text-align: right;\">\n",
       "      <th></th>\n",
       "      <th>price</th>\n",
       "      <th>in_stock</th>\n",
       "    </tr>\n",
       "  </thead>\n",
       "  <tbody>\n",
       "    <tr>\n",
       "      <th>count</th>\n",
       "      <td>1000.000000</td>\n",
       "      <td>1000.000000</td>\n",
       "    </tr>\n",
       "    <tr>\n",
       "      <th>mean</th>\n",
       "      <td>35.070350</td>\n",
       "      <td>8.585000</td>\n",
       "    </tr>\n",
       "    <tr>\n",
       "      <th>std</th>\n",
       "      <td>14.446690</td>\n",
       "      <td>5.654622</td>\n",
       "    </tr>\n",
       "    <tr>\n",
       "      <th>min</th>\n",
       "      <td>10.000000</td>\n",
       "      <td>1.000000</td>\n",
       "    </tr>\n",
       "    <tr>\n",
       "      <th>25%</th>\n",
       "      <td>22.107501</td>\n",
       "      <td>3.000000</td>\n",
       "    </tr>\n",
       "    <tr>\n",
       "      <th>50%</th>\n",
       "      <td>35.980000</td>\n",
       "      <td>7.000000</td>\n",
       "    </tr>\n",
       "    <tr>\n",
       "      <th>75%</th>\n",
       "      <td>47.457499</td>\n",
       "      <td>14.000000</td>\n",
       "    </tr>\n",
       "    <tr>\n",
       "      <th>max</th>\n",
       "      <td>59.990002</td>\n",
       "      <td>22.000000</td>\n",
       "    </tr>\n",
       "  </tbody>\n",
       "</table>\n",
       "</div>"
      ],
      "text/plain": [
       "             price     in_stock\n",
       "count  1000.000000  1000.000000\n",
       "mean     35.070350     8.585000\n",
       "std      14.446690     5.654622\n",
       "min      10.000000     1.000000\n",
       "25%      22.107501     3.000000\n",
       "50%      35.980000     7.000000\n",
       "75%      47.457499    14.000000\n",
       "max      59.990002    22.000000"
      ]
     },
     "execution_count": 4,
     "metadata": {},
     "output_type": "execute_result"
    }
   ],
   "source": [
    "df.describe()"
   ]
  },
  {
   "cell_type": "code",
   "execution_count": null,
   "metadata": {},
   "outputs": [],
   "source": []
  }
 ],
 "metadata": {
  "interpreter": {
   "hash": "eeb57099e1eccb96be891bdf0ae38f70a943d4faac33b319a75ab97155fb7dd3"
  },
  "kernelspec": {
   "display_name": "Python 3.9.7 ('test_env')",
   "language": "python",
   "name": "python3"
  },
  "language_info": {
   "codemirror_mode": {
    "name": "ipython",
    "version": 3
   },
   "file_extension": ".py",
   "mimetype": "text/x-python",
   "name": "python",
   "nbconvert_exporter": "python",
   "pygments_lexer": "ipython3",
   "version": "3.9.7"
  },
  "orig_nbformat": 4
 },
 "nbformat": 4,
 "nbformat_minor": 2
}
