{
 "cells": [
  {
   "cell_type": "code",
   "execution_count": 4,
   "metadata": {},
   "outputs": [],
   "source": [
    "import pyodbc\n",
    "import numpy as np\n",
    "import pandas as pd"
   ]
  },
  {
   "cell_type": "code",
   "execution_count": 6,
   "metadata": {},
   "outputs": [
    {
     "name": "stdout",
     "output_type": "stream",
     "text": [
      "The SqlServer connection is closed\n"
     ]
    }
   ],
   "source": [
    "Server = 'DESKTOP-13K0I1P'\n",
    "try:\n",
    "    sqlServerCon = pyodbc.connect('Driver={SQL Server};'\n",
    "                      f'Server={Server};'\n",
    "                      'Database=Books;'\n",
    "                      'Trusted_Connection=yes;')\n",
    "    SQL_read_query = pd.read_sql_query(\n",
    "        '''SELECT\n",
    "          *\n",
    "          FROM Books''', sqlServerCon\n",
    "    )\n",
    "\n",
    "    # Create cursor connection to db\n",
    "    df = pd.DataFrame(SQL_Query, columns=['title', 'price', 'price'])\n",
    "    print(df)\n",
    "    print(type(df))\n",
    "\n",
    "     \n",
    "except pyodbc.Error as error:\n",
    "    print(\"Error while connecting to SqlServer - \", error)\n",
    "finally:\n",
    "    if sqlServerCon:\n",
    "        sqlServerCon.close()\n",
    "        print(\"The SqlServer connection is closed\")"
   ]
  },
  {
   "cell_type": "code",
   "execution_count": null,
   "metadata": {},
   "outputs": [],
   "source": []
  }
 ],
 "metadata": {
  "interpreter": {
   "hash": "eeb57099e1eccb96be891bdf0ae38f70a943d4faac33b319a75ab97155fb7dd3"
  },
  "kernelspec": {
   "display_name": "Python 3.9.7 ('test_env')",
   "language": "python",
   "name": "python3"
  },
  "language_info": {
   "codemirror_mode": {
    "name": "ipython",
    "version": 3
   },
   "file_extension": ".py",
   "mimetype": "text/x-python",
   "name": "python",
   "nbconvert_exporter": "python",
   "pygments_lexer": "ipython3",
   "version": "3.9.7"
  },
  "orig_nbformat": 4
 },
 "nbformat": 4,
 "nbformat_minor": 2
}
