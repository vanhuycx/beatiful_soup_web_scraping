{
 "cells": [
  {
   "cell_type": "code",
   "execution_count": 4,
   "metadata": {},
   "outputs": [],
   "source": [
    "# Import necessary libraries\n",
    "import pyodbc\n",
    "import numpy as np\n",
    "import pandas as pd"
   ]
  },
  {
   "cell_type": "code",
   "execution_count": 16,
   "metadata": {},
   "outputs": [
    {
     "name": "stdout",
     "output_type": "stream",
     "text": [
      "The Books database from SqlServer is connected. Completing reading Books table.\n",
      "The SqlServer connection is closed\n"
     ]
    }
   ],
   "source": [
    "# Connect to SQL server and connect to Books table. Assign the table data to a pandas DataFrame.\n",
    "Server = 'DESKTOP-13K0I1P'\n",
    "try:\n",
    "    sqlServerConnection = pyodbc.connect('Driver={SQL Server};'\n",
    "                      f'Server={Server};'\n",
    "                      'Database=Books;'\n",
    "                      'Trusted_Connection=yes;')\n",
    "    SQL_read_query = pd.read_sql_query('SELECT * FROM Books', sqlServerConnection)\n",
    "\n",
    "    # Create cursor connection to db\n",
    "    df = pd.DataFrame(SQL_read_query, columns=['title', 'price', 'in_stock', 'rating', 'genre', 'upc', 'description'])\n",
    "    print(\"The Books database from SqlServer is connected. Completing reading Books table.\")\n",
    "except pyodbc.Error as error:\n",
    "    print(\"Error while connecting to SqlServer - \", error)\n",
    "finally:\n",
    "    if sqlServerConnection:\n",
    "        sqlServerConnection.close()\n",
    "        print(\"The SqlServer connection is closed\")\n"
   ]
  },
  {
   "cell_type": "code",
   "execution_count": 17,
   "metadata": {},
   "outputs": [
    {
     "data": {
      "text/html": [
       "<div>\n",
       "<style scoped>\n",
       "    .dataframe tbody tr th:only-of-type {\n",
       "        vertical-align: middle;\n",
       "    }\n",
       "\n",
       "    .dataframe tbody tr th {\n",
       "        vertical-align: top;\n",
       "    }\n",
       "\n",
       "    .dataframe thead th {\n",
       "        text-align: right;\n",
       "    }\n",
       "</style>\n",
       "<table border=\"1\" class=\"dataframe\">\n",
       "  <thead>\n",
       "    <tr style=\"text-align: right;\">\n",
       "      <th></th>\n",
       "      <th>title</th>\n",
       "      <th>price</th>\n",
       "      <th>in_stock</th>\n",
       "      <th>rating</th>\n",
       "      <th>genre</th>\n",
       "      <th>upc</th>\n",
       "      <th>description</th>\n",
       "    </tr>\n",
       "  </thead>\n",
       "  <tbody>\n",
       "    <tr>\n",
       "      <th>0</th>\n",
       "      <td>A Light in the Attic</td>\n",
       "      <td>51.770000</td>\n",
       "      <td>22</td>\n",
       "      <td>three</td>\n",
       "      <td>Poetry</td>\n",
       "      <td>a897fe39b1053632</td>\n",
       "      <td>It&amp;#39;s hard to imagine a world without A Lig...</td>\n",
       "    </tr>\n",
       "    <tr>\n",
       "      <th>1</th>\n",
       "      <td>Tipping the Velvet</td>\n",
       "      <td>53.740002</td>\n",
       "      <td>20</td>\n",
       "      <td>one</td>\n",
       "      <td>Historical Fiction</td>\n",
       "      <td>90fa61229261140a</td>\n",
       "      <td>\"Erotic and absorbing...Written with starling ...</td>\n",
       "    </tr>\n",
       "    <tr>\n",
       "      <th>2</th>\n",
       "      <td>Soumission</td>\n",
       "      <td>50.099998</td>\n",
       "      <td>20</td>\n",
       "      <td>one</td>\n",
       "      <td>Fiction</td>\n",
       "      <td>6957f44c3847a760</td>\n",
       "      <td>Dans une France assez proche de la nÃ´tre, un ...</td>\n",
       "    </tr>\n",
       "    <tr>\n",
       "      <th>3</th>\n",
       "      <td>Sharp Objects</td>\n",
       "      <td>47.820000</td>\n",
       "      <td>20</td>\n",
       "      <td>four</td>\n",
       "      <td>Mystery</td>\n",
       "      <td>e00eb4fd7b871a48</td>\n",
       "      <td>WICKED above her hipbone, GIRL across her hear...</td>\n",
       "    </tr>\n",
       "    <tr>\n",
       "      <th>4</th>\n",
       "      <td>Sapiens: A Brief History of Humankind</td>\n",
       "      <td>54.230000</td>\n",
       "      <td>20</td>\n",
       "      <td>five</td>\n",
       "      <td>History</td>\n",
       "      <td>4165285e1663650f</td>\n",
       "      <td>From a renowned historian comes a groundbreaki...</td>\n",
       "    </tr>\n",
       "  </tbody>\n",
       "</table>\n",
       "</div>"
      ],
      "text/plain": [
       "                                   title      price  in_stock rating  \\\n",
       "0                   A Light in the Attic  51.770000        22  three   \n",
       "1                     Tipping the Velvet  53.740002        20    one   \n",
       "2                             Soumission  50.099998        20    one   \n",
       "3                          Sharp Objects  47.820000        20   four   \n",
       "4  Sapiens: A Brief History of Humankind  54.230000        20   five   \n",
       "\n",
       "                genre               upc  \\\n",
       "0              Poetry  a897fe39b1053632   \n",
       "1  Historical Fiction  90fa61229261140a   \n",
       "2             Fiction  6957f44c3847a760   \n",
       "3             Mystery  e00eb4fd7b871a48   \n",
       "4             History  4165285e1663650f   \n",
       "\n",
       "                                         description  \n",
       "0  It&#39;s hard to imagine a world without A Lig...  \n",
       "1  \"Erotic and absorbing...Written with starling ...  \n",
       "2  Dans une France assez proche de la nÃ´tre, un ...  \n",
       "3  WICKED above her hipbone, GIRL across her hear...  \n",
       "4  From a renowned historian comes a groundbreaki...  "
      ]
     },
     "execution_count": 17,
     "metadata": {},
     "output_type": "execute_result"
    }
   ],
   "source": [
    "df.head()"
   ]
  },
  {
   "cell_type": "code",
   "execution_count": null,
   "metadata": {},
   "outputs": [],
   "source": []
  },
  {
   "cell_type": "code",
   "execution_count": null,
   "metadata": {},
   "outputs": [],
   "source": []
  },
  {
   "cell_type": "code",
   "execution_count": null,
   "metadata": {},
   "outputs": [],
   "source": []
  }
 ],
 "metadata": {
  "interpreter": {
   "hash": "eeb57099e1eccb96be891bdf0ae38f70a943d4faac33b319a75ab97155fb7dd3"
  },
  "kernelspec": {
   "display_name": "Python 3.9.7 ('test_env')",
   "language": "python",
   "name": "python3"
  },
  "language_info": {
   "codemirror_mode": {
    "name": "ipython",
    "version": 3
   },
   "file_extension": ".py",
   "mimetype": "text/x-python",
   "name": "python",
   "nbconvert_exporter": "python",
   "pygments_lexer": "ipython3",
   "version": "3.9.7"
  },
  "orig_nbformat": 4
 },
 "nbformat": 4,
 "nbformat_minor": 2
}
