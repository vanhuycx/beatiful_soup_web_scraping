{
 "cells": [
  {
   "cell_type": "code",
   "execution_count": 2,
   "id": "f2b8c221-5408-4321-918a-df4f9bf31205",
   "metadata": {},
   "outputs": [
    {
     "data": {
      "text/html": [
       "<div>\n",
       "<style scoped>\n",
       "    .dataframe tbody tr th:only-of-type {\n",
       "        vertical-align: middle;\n",
       "    }\n",
       "\n",
       "    .dataframe tbody tr th {\n",
       "        vertical-align: top;\n",
       "    }\n",
       "\n",
       "    .dataframe thead th {\n",
       "        text-align: right;\n",
       "    }\n",
       "</style>\n",
       "<table border=\"1\" class=\"dataframe\">\n",
       "  <thead>\n",
       "    <tr style=\"text-align: right;\">\n",
       "      <th></th>\n",
       "      <th>id</th>\n",
       "      <th>price</th>\n",
       "      <th>in_stock</th>\n",
       "    </tr>\n",
       "  </thead>\n",
       "  <tbody>\n",
       "    <tr>\n",
       "      <th>count</th>\n",
       "      <td>1000.000000</td>\n",
       "      <td>1000.00000</td>\n",
       "      <td>1000.000000</td>\n",
       "    </tr>\n",
       "    <tr>\n",
       "      <th>mean</th>\n",
       "      <td>500.500000</td>\n",
       "      <td>35.07035</td>\n",
       "      <td>8.585000</td>\n",
       "    </tr>\n",
       "    <tr>\n",
       "      <th>std</th>\n",
       "      <td>288.819436</td>\n",
       "      <td>14.44669</td>\n",
       "      <td>5.654622</td>\n",
       "    </tr>\n",
       "    <tr>\n",
       "      <th>min</th>\n",
       "      <td>1.000000</td>\n",
       "      <td>10.00000</td>\n",
       "      <td>1.000000</td>\n",
       "    </tr>\n",
       "    <tr>\n",
       "      <th>25%</th>\n",
       "      <td>250.750000</td>\n",
       "      <td>22.10750</td>\n",
       "      <td>3.000000</td>\n",
       "    </tr>\n",
       "    <tr>\n",
       "      <th>50%</th>\n",
       "      <td>500.500000</td>\n",
       "      <td>35.98000</td>\n",
       "      <td>7.000000</td>\n",
       "    </tr>\n",
       "    <tr>\n",
       "      <th>75%</th>\n",
       "      <td>750.250000</td>\n",
       "      <td>47.45750</td>\n",
       "      <td>14.000000</td>\n",
       "    </tr>\n",
       "    <tr>\n",
       "      <th>max</th>\n",
       "      <td>1000.000000</td>\n",
       "      <td>59.99000</td>\n",
       "      <td>22.000000</td>\n",
       "    </tr>\n",
       "  </tbody>\n",
       "</table>\n",
       "</div>"
      ],
      "text/plain": [
       "                id       price     in_stock\n",
       "count  1000.000000  1000.00000  1000.000000\n",
       "mean    500.500000    35.07035     8.585000\n",
       "std     288.819436    14.44669     5.654622\n",
       "min       1.000000    10.00000     1.000000\n",
       "25%     250.750000    22.10750     3.000000\n",
       "50%     500.500000    35.98000     7.000000\n",
       "75%     750.250000    47.45750    14.000000\n",
       "max    1000.000000    59.99000    22.000000"
      ]
     },
     "execution_count": 2,
     "metadata": {},
     "output_type": "execute_result"
    }
   ],
   "source": [
    "import pandas as pd\n",
    "df=pd.read_csv(\"Books.csv\")\n",
    "\n",
    "# Summarize the central tendency, dispersion and shape of a dataset’s distribution, excluding NaN (Not a Number) values.\n",
    "df.describe()"
   ]
  },
  {
   "cell_type": "code",
   "execution_count": 3,
   "id": "6731ea7e-e620-43e8-8418-9b8113f46884",
   "metadata": {},
   "outputs": [
    {
     "name": "stdout",
     "output_type": "stream",
     "text": [
      "<class 'pandas.core.frame.DataFrame'>\n",
      "RangeIndex: 1000 entries, 0 to 999\n",
      "Data columns (total 8 columns):\n",
      " #   Column       Non-Null Count  Dtype  \n",
      "---  ------       --------------  -----  \n",
      " 0   id           1000 non-null   int64  \n",
      " 1   title        1000 non-null   object \n",
      " 2   price        1000 non-null   float64\n",
      " 3   in_stock     1000 non-null   int64  \n",
      " 4   rating       1000 non-null   object \n",
      " 5   genre        1000 non-null   object \n",
      " 6   upc          1000 non-null   object \n",
      " 7   description  1000 non-null   object \n",
      "dtypes: float64(1), int64(2), object(5)\n",
      "memory usage: 62.6+ KB\n"
     ]
    }
   ],
   "source": [
    "import pandas as pd\n",
    "df=pd.read_csv(\"Books.csv\").info()\n",
    "df"
   ]
  },
  {
   "cell_type": "code",
   "execution_count": 4,
   "id": "4b90a6d3-2801-4611-b40c-d6090afacf2d",
   "metadata": {},
   "outputs": [
    {
     "data": {
      "text/html": [
       "<div>\n",
       "<style scoped>\n",
       "    .dataframe tbody tr th:only-of-type {\n",
       "        vertical-align: middle;\n",
       "    }\n",
       "\n",
       "    .dataframe tbody tr th {\n",
       "        vertical-align: top;\n",
       "    }\n",
       "\n",
       "    .dataframe thead th {\n",
       "        text-align: right;\n",
       "    }\n",
       "</style>\n",
       "<table border=\"1\" class=\"dataframe\">\n",
       "  <thead>\n",
       "    <tr style=\"text-align: right;\">\n",
       "      <th></th>\n",
       "      <th>id</th>\n",
       "      <th>title</th>\n",
       "      <th>price</th>\n",
       "      <th>in_stock</th>\n",
       "      <th>rating</th>\n",
       "      <th>genre</th>\n",
       "      <th>upc</th>\n",
       "      <th>description</th>\n",
       "    </tr>\n",
       "  </thead>\n",
       "  <tbody>\n",
       "    <tr>\n",
       "      <th>0</th>\n",
       "      <td>1</td>\n",
       "      <td>A Light in the Attic</td>\n",
       "      <td>51.77</td>\n",
       "      <td>22</td>\n",
       "      <td>three</td>\n",
       "      <td>Poetry</td>\n",
       "      <td>a897fe39b1053632</td>\n",
       "      <td>It&amp;#39;s hard to imagine a world without A Lig...</td>\n",
       "    </tr>\n",
       "    <tr>\n",
       "      <th>1</th>\n",
       "      <td>2</td>\n",
       "      <td>Tipping the Velvet</td>\n",
       "      <td>53.74</td>\n",
       "      <td>20</td>\n",
       "      <td>one</td>\n",
       "      <td>Historical Fiction</td>\n",
       "      <td>90fa61229261140a</td>\n",
       "      <td>\"Erotic and absorbing...Written with starling ...</td>\n",
       "    </tr>\n",
       "    <tr>\n",
       "      <th>2</th>\n",
       "      <td>3</td>\n",
       "      <td>Soumission</td>\n",
       "      <td>50.10</td>\n",
       "      <td>20</td>\n",
       "      <td>one</td>\n",
       "      <td>Fiction</td>\n",
       "      <td>6957f44c3847a760</td>\n",
       "      <td>Dans une France assez proche de la nÃ´tre, un ...</td>\n",
       "    </tr>\n",
       "    <tr>\n",
       "      <th>3</th>\n",
       "      <td>4</td>\n",
       "      <td>Sharp Objects</td>\n",
       "      <td>47.82</td>\n",
       "      <td>20</td>\n",
       "      <td>four</td>\n",
       "      <td>Mystery</td>\n",
       "      <td>e00eb4fd7b871a48</td>\n",
       "      <td>WICKED above her hipbone, GIRL across her hear...</td>\n",
       "    </tr>\n",
       "    <tr>\n",
       "      <th>4</th>\n",
       "      <td>5</td>\n",
       "      <td>Sapiens: A Brief History of Humankind</td>\n",
       "      <td>54.23</td>\n",
       "      <td>20</td>\n",
       "      <td>five</td>\n",
       "      <td>History</td>\n",
       "      <td>4165285e1663650f</td>\n",
       "      <td>From a renowned historian comes a groundbreaki...</td>\n",
       "    </tr>\n",
       "  </tbody>\n",
       "</table>\n",
       "</div>"
      ],
      "text/plain": [
       "   id                                  title  price  in_stock rating  \\\n",
       "0   1                   A Light in the Attic  51.77        22  three   \n",
       "1   2                     Tipping the Velvet  53.74        20    one   \n",
       "2   3                             Soumission  50.10        20    one   \n",
       "3   4                          Sharp Objects  47.82        20   four   \n",
       "4   5  Sapiens: A Brief History of Humankind  54.23        20   five   \n",
       "\n",
       "                genre               upc  \\\n",
       "0              Poetry  a897fe39b1053632   \n",
       "1  Historical Fiction  90fa61229261140a   \n",
       "2             Fiction  6957f44c3847a760   \n",
       "3             Mystery  e00eb4fd7b871a48   \n",
       "4             History  4165285e1663650f   \n",
       "\n",
       "                                         description  \n",
       "0  It&#39;s hard to imagine a world without A Lig...  \n",
       "1  \"Erotic and absorbing...Written with starling ...  \n",
       "2  Dans une France assez proche de la nÃ´tre, un ...  \n",
       "3  WICKED above her hipbone, GIRL across her hear...  \n",
       "4  From a renowned historian comes a groundbreaki...  "
      ]
     },
     "execution_count": 4,
     "metadata": {},
     "output_type": "execute_result"
    }
   ],
   "source": [
    "import pandas as pd\n",
    "df=pd.read_csv(\"Books.csv\")\n",
    "df.head(5)"
   ]
  },
  {
   "cell_type": "code",
   "execution_count": 5,
   "id": "87fc5fcc-7a50-4957-9ad7-271925130877",
   "metadata": {},
   "outputs": [
    {
     "data": {
      "text/html": [
       "<div>\n",
       "<style scoped>\n",
       "    .dataframe tbody tr th:only-of-type {\n",
       "        vertical-align: middle;\n",
       "    }\n",
       "\n",
       "    .dataframe tbody tr th {\n",
       "        vertical-align: top;\n",
       "    }\n",
       "\n",
       "    .dataframe thead th {\n",
       "        text-align: right;\n",
       "    }\n",
       "</style>\n",
       "<table border=\"1\" class=\"dataframe\">\n",
       "  <thead>\n",
       "    <tr style=\"text-align: right;\">\n",
       "      <th></th>\n",
       "      <th>id</th>\n",
       "      <th>title</th>\n",
       "      <th>price</th>\n",
       "      <th>in_stock</th>\n",
       "      <th>rating</th>\n",
       "      <th>genre</th>\n",
       "      <th>upc</th>\n",
       "      <th>description</th>\n",
       "    </tr>\n",
       "  </thead>\n",
       "  <tbody>\n",
       "    <tr>\n",
       "      <th>999</th>\n",
       "      <td>1000</td>\n",
       "      <td>1,000 Places to See Before You Die</td>\n",
       "      <td>26.08</td>\n",
       "      <td>1</td>\n",
       "      <td>five</td>\n",
       "      <td>Travel</td>\n",
       "      <td>228ba5e7577e1d49</td>\n",
       "      <td>Around the World, continent by continent, here...</td>\n",
       "    </tr>\n",
       "  </tbody>\n",
       "</table>\n",
       "</div>"
      ],
      "text/plain": [
       "       id                               title  price  in_stock rating   genre  \\\n",
       "999  1000  1,000 Places to See Before You Die  26.08         1   five  Travel   \n",
       "\n",
       "                  upc                                        description  \n",
       "999  228ba5e7577e1d49  Around the World, continent by continent, here...  "
      ]
     },
     "execution_count": 5,
     "metadata": {},
     "output_type": "execute_result"
    }
   ],
   "source": [
    "import pandas as pd\n",
    "df=pd.read_csv(\"Books.csv\")\n",
    "df.tail(1)"
   ]
  },
  {
   "cell_type": "code",
   "execution_count": 6,
   "id": "49067252-bd3e-46d8-8e15-a74e67cb0cf4",
   "metadata": {},
   "outputs": [
    {
     "data": {
      "text/plain": [
       "<bound method NDFrame.head of        id                                              title  price  in_stock  \\\n",
       "0       1                               A Light in the Attic  51.77        22   \n",
       "1       2                                 Tipping the Velvet  53.74        20   \n",
       "2       3                                         Soumission  50.10        20   \n",
       "3       4                                      Sharp Objects  47.82        20   \n",
       "4       5              Sapiens: A Brief History of Humankind  54.23        20   \n",
       "..    ...                                                ...    ...       ...   \n",
       "995   996  Alice in Wonderland (Alice&#39;s Adventures in...  55.53         1   \n",
       "996   997   Ajin: Demi-Human, Volume 1 (Ajin: Demi-Human #1)  57.06         1   \n",
       "997   998  A Spy&#39;s Devotion (The Regency Spies of Lon...  16.97         1   \n",
       "998   999            1st to Die (Women&#39;s Murder Club #1)  53.98         1   \n",
       "999  1000                 1,000 Places to See Before You Die  26.08         1   \n",
       "\n",
       "    rating               genre               upc  \\\n",
       "0    three              Poetry  a897fe39b1053632   \n",
       "1      one  Historical Fiction  90fa61229261140a   \n",
       "2      one             Fiction  6957f44c3847a760   \n",
       "3     four             Mystery  e00eb4fd7b871a48   \n",
       "4     five             History  4165285e1663650f   \n",
       "..     ...                 ...               ...   \n",
       "995    one            Classics  cd2a2a70dd5d176d   \n",
       "996   four      Sequential Art  bfd5e1701c862ac3   \n",
       "997   five  Historical Fiction  19fec36a1dfb4c16   \n",
       "998    one             Mystery  f684a82adc49f011   \n",
       "999   five              Travel  228ba5e7577e1d49   \n",
       "\n",
       "                                           description  \n",
       "0    It&#39;s hard to imagine a world without A Lig...  \n",
       "1    \"Erotic and absorbing...Written with starling ...  \n",
       "2    Dans une France assez proche de la nÃ´tre, un ...  \n",
       "3    WICKED above her hipbone, GIRL across her hear...  \n",
       "4    From a renowned historian comes a groundbreaki...  \n",
       "..                                                 ...  \n",
       "995                                                ...  \n",
       "996  High school student Kei Nagai is struck dead i...  \n",
       "997  In Englandâs Regency era, manners and elegan...  \n",
       "998  James Patterson, bestselling author of the Ale...  \n",
       "999  Around the World, continent by continent, here...  \n",
       "\n",
       "[1000 rows x 8 columns]>"
      ]
     },
     "execution_count": 6,
     "metadata": {},
     "output_type": "execute_result"
    }
   ],
   "source": [
    "import pandas as pd\n",
    "df=pd.read_csv(\"Books.csv\")\n",
    "df.head"
   ]
  },
  {
   "cell_type": "code",
   "execution_count": 7,
   "id": "92eaba88-9c4a-4184-8c4a-38f12ffe971c",
   "metadata": {},
   "outputs": [
    {
     "data": {
      "text/html": [
       "<div>\n",
       "<style scoped>\n",
       "    .dataframe tbody tr th:only-of-type {\n",
       "        vertical-align: middle;\n",
       "    }\n",
       "\n",
       "    .dataframe tbody tr th {\n",
       "        vertical-align: top;\n",
       "    }\n",
       "\n",
       "    .dataframe thead th {\n",
       "        text-align: right;\n",
       "    }\n",
       "</style>\n",
       "<table border=\"1\" class=\"dataframe\">\n",
       "  <thead>\n",
       "    <tr style=\"text-align: right;\">\n",
       "      <th></th>\n",
       "      <th>title</th>\n",
       "      <th>rating</th>\n",
       "      <th>genre</th>\n",
       "      <th>upc</th>\n",
       "      <th>description</th>\n",
       "    </tr>\n",
       "  </thead>\n",
       "  <tbody>\n",
       "    <tr>\n",
       "      <th>count</th>\n",
       "      <td>1000</td>\n",
       "      <td>1000</td>\n",
       "      <td>1000</td>\n",
       "      <td>1000</td>\n",
       "      <td>1000</td>\n",
       "    </tr>\n",
       "    <tr>\n",
       "      <th>unique</th>\n",
       "      <td>999</td>\n",
       "      <td>5</td>\n",
       "      <td>50</td>\n",
       "      <td>1000</td>\n",
       "      <td>997</td>\n",
       "    </tr>\n",
       "    <tr>\n",
       "      <th>top</th>\n",
       "      <td>The Star-Touched Queen</td>\n",
       "      <td>one</td>\n",
       "      <td>Default</td>\n",
       "      <td>a897fe39b1053632</td>\n",
       "      <td>...</td>\n",
       "    </tr>\n",
       "    <tr>\n",
       "      <th>freq</th>\n",
       "      <td>2</td>\n",
       "      <td>226</td>\n",
       "      <td>152</td>\n",
       "      <td>1</td>\n",
       "      <td>2</td>\n",
       "    </tr>\n",
       "  </tbody>\n",
       "</table>\n",
       "</div>"
      ],
      "text/plain": [
       "                         title rating    genre               upc description\n",
       "count                     1000   1000     1000              1000        1000\n",
       "unique                     999      5       50              1000         997\n",
       "top     The Star-Touched Queen    one  Default  a897fe39b1053632         ...\n",
       "freq                         2    226      152                 1           2"
      ]
     },
     "execution_count": 7,
     "metadata": {},
     "output_type": "execute_result"
    }
   ],
   "source": [
    "#How can I get a descriptive statistics of the data(categorical data)?\n",
    "\n",
    "import pandas as pd\n",
    "df=pd.read_csv(\"Books.csv\")\n",
    "\n",
    "# The categorical variable title has 999 levels, rating has 5 levels and genre has 50 levels.\n",
    "df.describe(include=object)"
   ]
  },
  {
   "cell_type": "code",
   "execution_count": 9,
   "id": "abff1600-0532-497a-a6b4-3de2fb0d09ec",
   "metadata": {},
   "outputs": [
    {
     "data": {
      "text/plain": [
       "1000"
      ]
     },
     "execution_count": 9,
     "metadata": {},
     "output_type": "execute_result"
    }
   ],
   "source": [
    "# How I can view the TITLE levels(unique/distinct values) of a categorical Data?\n",
    "\n",
    "import pandas as pd\n",
    "df=pd.read_csv(\"Books.csv\")\n",
    "\n",
    "cut_Series = df['title']\n",
    "cut_levels = cut_Series.count()\n",
    "cut_levels"
   ]
  },
  {
   "cell_type": "code",
   "execution_count": 10,
   "id": "d642a13d-e808-46d0-850e-b844da21e9b6",
   "metadata": {},
   "outputs": [
    {
     "data": {
      "text/plain": [
       "array(['three', 'one', 'four', 'five', 'two'], dtype=object)"
      ]
     },
     "execution_count": 10,
     "metadata": {},
     "output_type": "execute_result"
    }
   ],
   "source": [
    "# How I can view the RATING levels(unique/distinct values) of a categorical Data?\n",
    "\n",
    "import pandas as pd\n",
    "df=pd.read_csv(\"Books.csv\")\n",
    "\n",
    "cut_Series = df['rating']\n",
    "cut_levels = cut_Series.unique()\n",
    "cut_levels"
   ]
  },
  {
   "cell_type": "code",
   "execution_count": 11,
   "id": "0bad5741-0d2a-4e02-bc75-e0674e4e3422",
   "metadata": {},
   "outputs": [
    {
     "data": {
      "text/plain": [
       "array(['Poetry', 'Historical Fiction', 'Fiction', 'Mystery', 'History',\n",
       "       'Young Adult', 'Business', 'Default', 'Sequential Art', 'Music',\n",
       "       'Science Fiction', 'Politics', 'Travel', 'Thriller',\n",
       "       'Food and Drink', 'Romance', 'Childrens', 'Nonfiction', 'Art',\n",
       "       'Spirituality', 'Philosophy', 'New Adult', 'Contemporary',\n",
       "       'Fantasy', 'Add a comment', 'Science', 'Health', 'Horror',\n",
       "       'Self Help', 'Religion', 'Christian', 'Crime', 'Autobiography',\n",
       "       'Christian Fiction', 'Biography', 'Womens Fiction', 'Erotica',\n",
       "       'Cultural', 'Psychology', 'Humor', 'Historical', 'Novels',\n",
       "       'Short Stories', 'Suspense', 'Classics', 'Academic',\n",
       "       'Sports and Games', 'Adult Fiction', 'Parenting', 'Paranormal'],\n",
       "      dtype=object)"
      ]
     },
     "execution_count": 11,
     "metadata": {},
     "output_type": "execute_result"
    }
   ],
   "source": [
    "import pandas as pd\n",
    "df=pd.read_csv(\"Books.csv\")\n",
    "\n",
    "cut_Series = df['genre']\n",
    "cut_levels = cut_Series.unique()\n",
    "cut_levels"
   ]
  },
  {
   "cell_type": "code",
   "execution_count": 12,
   "id": "dbe45682-dc41-492b-a258-4f541c8995eb",
   "metadata": {},
   "outputs": [
    {
     "data": {
      "text/html": [
       "<div>\n",
       "<style scoped>\n",
       "    .dataframe tbody tr th:only-of-type {\n",
       "        vertical-align: middle;\n",
       "    }\n",
       "\n",
       "    .dataframe tbody tr th {\n",
       "        vertical-align: top;\n",
       "    }\n",
       "\n",
       "    .dataframe thead th {\n",
       "        text-align: right;\n",
       "    }\n",
       "</style>\n",
       "<table border=\"1\" class=\"dataframe\">\n",
       "  <thead>\n",
       "    <tr style=\"text-align: right;\">\n",
       "      <th>col_0</th>\n",
       "      <th>freq</th>\n",
       "    </tr>\n",
       "    <tr>\n",
       "      <th>genre</th>\n",
       "      <th></th>\n",
       "    </tr>\n",
       "  </thead>\n",
       "  <tbody>\n",
       "    <tr>\n",
       "      <th>Academic</th>\n",
       "      <td>1</td>\n",
       "    </tr>\n",
       "    <tr>\n",
       "      <th>Add a comment</th>\n",
       "      <td>67</td>\n",
       "    </tr>\n",
       "    <tr>\n",
       "      <th>Adult Fiction</th>\n",
       "      <td>1</td>\n",
       "    </tr>\n",
       "    <tr>\n",
       "      <th>Art</th>\n",
       "      <td>8</td>\n",
       "    </tr>\n",
       "    <tr>\n",
       "      <th>Autobiography</th>\n",
       "      <td>9</td>\n",
       "    </tr>\n",
       "    <tr>\n",
       "      <th>Biography</th>\n",
       "      <td>5</td>\n",
       "    </tr>\n",
       "    <tr>\n",
       "      <th>Business</th>\n",
       "      <td>12</td>\n",
       "    </tr>\n",
       "    <tr>\n",
       "      <th>Childrens</th>\n",
       "      <td>29</td>\n",
       "    </tr>\n",
       "    <tr>\n",
       "      <th>Christian</th>\n",
       "      <td>3</td>\n",
       "    </tr>\n",
       "    <tr>\n",
       "      <th>Christian Fiction</th>\n",
       "      <td>6</td>\n",
       "    </tr>\n",
       "    <tr>\n",
       "      <th>Classics</th>\n",
       "      <td>19</td>\n",
       "    </tr>\n",
       "    <tr>\n",
       "      <th>Contemporary</th>\n",
       "      <td>3</td>\n",
       "    </tr>\n",
       "    <tr>\n",
       "      <th>Crime</th>\n",
       "      <td>1</td>\n",
       "    </tr>\n",
       "    <tr>\n",
       "      <th>Cultural</th>\n",
       "      <td>1</td>\n",
       "    </tr>\n",
       "    <tr>\n",
       "      <th>Default</th>\n",
       "      <td>152</td>\n",
       "    </tr>\n",
       "    <tr>\n",
       "      <th>Erotica</th>\n",
       "      <td>1</td>\n",
       "    </tr>\n",
       "    <tr>\n",
       "      <th>Fantasy</th>\n",
       "      <td>48</td>\n",
       "    </tr>\n",
       "    <tr>\n",
       "      <th>Fiction</th>\n",
       "      <td>65</td>\n",
       "    </tr>\n",
       "    <tr>\n",
       "      <th>Food and Drink</th>\n",
       "      <td>30</td>\n",
       "    </tr>\n",
       "    <tr>\n",
       "      <th>Health</th>\n",
       "      <td>4</td>\n",
       "    </tr>\n",
       "    <tr>\n",
       "      <th>Historical</th>\n",
       "      <td>2</td>\n",
       "    </tr>\n",
       "    <tr>\n",
       "      <th>Historical Fiction</th>\n",
       "      <td>26</td>\n",
       "    </tr>\n",
       "    <tr>\n",
       "      <th>History</th>\n",
       "      <td>18</td>\n",
       "    </tr>\n",
       "    <tr>\n",
       "      <th>Horror</th>\n",
       "      <td>17</td>\n",
       "    </tr>\n",
       "    <tr>\n",
       "      <th>Humor</th>\n",
       "      <td>10</td>\n",
       "    </tr>\n",
       "    <tr>\n",
       "      <th>Music</th>\n",
       "      <td>13</td>\n",
       "    </tr>\n",
       "    <tr>\n",
       "      <th>Mystery</th>\n",
       "      <td>32</td>\n",
       "    </tr>\n",
       "    <tr>\n",
       "      <th>New Adult</th>\n",
       "      <td>6</td>\n",
       "    </tr>\n",
       "    <tr>\n",
       "      <th>Nonfiction</th>\n",
       "      <td>110</td>\n",
       "    </tr>\n",
       "    <tr>\n",
       "      <th>Novels</th>\n",
       "      <td>1</td>\n",
       "    </tr>\n",
       "    <tr>\n",
       "      <th>Paranormal</th>\n",
       "      <td>1</td>\n",
       "    </tr>\n",
       "    <tr>\n",
       "      <th>Parenting</th>\n",
       "      <td>1</td>\n",
       "    </tr>\n",
       "    <tr>\n",
       "      <th>Philosophy</th>\n",
       "      <td>11</td>\n",
       "    </tr>\n",
       "    <tr>\n",
       "      <th>Poetry</th>\n",
       "      <td>19</td>\n",
       "    </tr>\n",
       "    <tr>\n",
       "      <th>Politics</th>\n",
       "      <td>3</td>\n",
       "    </tr>\n",
       "    <tr>\n",
       "      <th>Psychology</th>\n",
       "      <td>7</td>\n",
       "    </tr>\n",
       "    <tr>\n",
       "      <th>Religion</th>\n",
       "      <td>7</td>\n",
       "    </tr>\n",
       "    <tr>\n",
       "      <th>Romance</th>\n",
       "      <td>35</td>\n",
       "    </tr>\n",
       "    <tr>\n",
       "      <th>Science</th>\n",
       "      <td>14</td>\n",
       "    </tr>\n",
       "    <tr>\n",
       "      <th>Science Fiction</th>\n",
       "      <td>16</td>\n",
       "    </tr>\n",
       "    <tr>\n",
       "      <th>Self Help</th>\n",
       "      <td>5</td>\n",
       "    </tr>\n",
       "    <tr>\n",
       "      <th>Sequential Art</th>\n",
       "      <td>75</td>\n",
       "    </tr>\n",
       "    <tr>\n",
       "      <th>Short Stories</th>\n",
       "      <td>1</td>\n",
       "    </tr>\n",
       "    <tr>\n",
       "      <th>Spirituality</th>\n",
       "      <td>6</td>\n",
       "    </tr>\n",
       "    <tr>\n",
       "      <th>Sports and Games</th>\n",
       "      <td>5</td>\n",
       "    </tr>\n",
       "    <tr>\n",
       "      <th>Suspense</th>\n",
       "      <td>1</td>\n",
       "    </tr>\n",
       "    <tr>\n",
       "      <th>Thriller</th>\n",
       "      <td>11</td>\n",
       "    </tr>\n",
       "    <tr>\n",
       "      <th>Travel</th>\n",
       "      <td>11</td>\n",
       "    </tr>\n",
       "    <tr>\n",
       "      <th>Womens Fiction</th>\n",
       "      <td>17</td>\n",
       "    </tr>\n",
       "    <tr>\n",
       "      <th>Young Adult</th>\n",
       "      <td>54</td>\n",
       "    </tr>\n",
       "  </tbody>\n",
       "</table>\n",
       "</div>"
      ],
      "text/plain": [
       "col_0               freq\n",
       "genre                   \n",
       "Academic               1\n",
       "Add a comment         67\n",
       "Adult Fiction          1\n",
       "Art                    8\n",
       "Autobiography          9\n",
       "Biography              5\n",
       "Business              12\n",
       "Childrens             29\n",
       "Christian              3\n",
       "Christian Fiction      6\n",
       "Classics              19\n",
       "Contemporary           3\n",
       "Crime                  1\n",
       "Cultural               1\n",
       "Default              152\n",
       "Erotica                1\n",
       "Fantasy               48\n",
       "Fiction               65\n",
       "Food and Drink        30\n",
       "Health                 4\n",
       "Historical             2\n",
       "Historical Fiction    26\n",
       "History               18\n",
       "Horror                17\n",
       "Humor                 10\n",
       "Music                 13\n",
       "Mystery               32\n",
       "New Adult              6\n",
       "Nonfiction           110\n",
       "Novels                 1\n",
       "Paranormal             1\n",
       "Parenting              1\n",
       "Philosophy            11\n",
       "Poetry                19\n",
       "Politics               3\n",
       "Psychology             7\n",
       "Religion               7\n",
       "Romance               35\n",
       "Science               14\n",
       "Science Fiction       16\n",
       "Self Help              5\n",
       "Sequential Art        75\n",
       "Short Stories          1\n",
       "Spirituality           6\n",
       "Sports and Games       5\n",
       "Suspense               1\n",
       "Thriller              11\n",
       "Travel                11\n",
       "Womens Fiction        17\n",
       "Young Adult           54"
      ]
     },
     "execution_count": 12,
     "metadata": {},
     "output_type": "execute_result"
    }
   ],
   "source": [
    "#Viewing the counts of categorical variable levels\n",
    "#By using a frequency table\n",
    "#The crosstab() function of pandas computes a frequency table of a given categorical variable. Now, I create a frequency table for the categorical variable cut.\n",
    "\n",
    "import pandas as pd\n",
    "df=pd.read_csv(\"Books.csv\")\n",
    "cut_freq_table = pd.crosstab(index=df['genre'], columns='freq')\n",
    "cut_freq_table\n"
   ]
  },
  {
   "cell_type": "code",
   "execution_count": 13,
   "id": "61ffac45-59be-4c23-8ab2-3372082b0d22",
   "metadata": {},
   "outputs": [
    {
     "data": {
      "text/plain": [
       "<AxesSubplot:title={'center':'FREQUENCIES OF GENRES VARIBLE LEVELS'}, xlabel='genre'>"
      ]
     },
     "execution_count": 13,
     "metadata": {},
     "output_type": "execute_result"
    },
    {
     "data": {
      "image/png": "[encoded data removed]",
      "text/plain": [
       "<Figure size 756x540 with 1 Axes>"
      ]
     },
     "metadata": {
      "needs_background": "light"
     },
     "output_type": "display_data"
    }
   ],
   "source": [
    "# What are the most of the BOOKS GENRES variable levels?\n",
    "\n",
    "\n",
    "import pandas as pd\n",
    "df=pd.read_csv(\"Books.csv\")\n",
    "\n",
    "cut_freq_table.plot(kind='bar', figsize=(10.5, 7.5), title = \"FREQUENCIES OF GENRES VARIBLE LEVELS\", legend= False )"
   ]
  },
  {
   "cell_type": "code",
   "execution_count": 17,
   "id": "bc90aa72-949f-4481-8217-28ff252846fb",
   "metadata": {},
   "outputs": [
    {
     "data": {
      "text/plain": [
       "<seaborn.axisgrid.FacetGrid at 0x17741367910>"
      ]
     },
     "execution_count": 17,
     "metadata": {},
     "output_type": "execute_result"
    },
    {
     "data": {
      "image/png": "[encoded data removed]",
      "text/plain": [
       "<Figure size 540x360 with 1 Axes>"
      ]
     },
     "metadata": {},
     "output_type": "display_data"
    }
   ],
   "source": [
    "# We can generate the same bar chart using the seaborn data visualization library with more visual aesthetics and customizations. \n",
    "# Here we use the catplot() function of seaborn with the parameter kind=count.\n",
    "\n",
    "\n",
    "import pandas as pd\n",
    "import seaborn as sns\n",
    "\n",
    "df=pd.read_csv(\"Books.csv\")\n",
    "sns.catplot(x= \"rating\",data=df,kind=\"count\", aspect=1.5)\n",
    "\n",
    "\n"
   ]
  },
  {
   "cell_type": "code",
   "execution_count": 23,
   "id": "875b3760-0790-4541-9276-1eb2918ddef9",
   "metadata": {},
   "outputs": [
    {
     "data": {
      "text/plain": [
       "<seaborn.axisgrid.FacetGrid at 0x17745a719c0>"
      ]
     },
     "execution_count": 23,
     "metadata": {},
     "output_type": "execute_result"
    },
    {
     "data": {
      "image/png": "[encoded data removed]",
      "text/plain": [
       "<Figure size 540x360 with 1 Axes>"
      ]
     },
     "metadata": {},
     "output_type": "display_data"
    }
   ],
   "source": [
    "# Changing the order of categories\n",
    "# In our plot, the quality of the rating is from best to worst. But let’s reverse the order:\n",
    "\n",
    "category_order = ['four', 'two', 'five', 'three', 'one']\n",
    "\n",
    "sns.catplot(x='rating', data=df, kind='count', order=category_order,aspect=1.5)\n"
   ]
  },
  {
   "cell_type": "code",
   "execution_count": 26,
   "id": "cd5faf46-8894-42d8-a86c-a393a746f18d",
   "metadata": {},
   "outputs": [
    {
     "data": {
      "image/png": "[encoded data removed]",
      "text/plain": [
       "<Figure size 360x360 with 1 Axes>"
      ]
     },
     "metadata": {},
     "output_type": "display_data"
    }
   ],
   "source": [
    "sns.catplot(x='price',\n",
    "            y='rating',\n",
    "            data=df,\n",
    "            kind='bar',\n",
    "            order=category_order,\n",
    "            ci=None);"
   ]
  },
  {
   "cell_type": "code",
   "execution_count": 27,
   "id": "8031956f-aacb-48ed-983a-45585feda943",
   "metadata": {},
   "outputs": [
    {
     "data": {
      "image/png": "[encoded data removed]",
      "text/plain": [
       "<Figure size 360x360 with 1 Axes>"
      ]
     },
     "metadata": {},
     "output_type": "display_data"
    }
   ],
   "source": [
    "sns.catplot(x='price',\n",
    "            y='genre',\n",
    "            data=df,\n",
    "            kind='bar',\n",
    "            order=category_order,\n",
    "            ci=None);"
   ]
  },
  {
   "cell_type": "code",
   "execution_count": null,
   "id": "f01950a3-b3d1-485c-886e-cff4b31aee18",
   "metadata": {},
   "outputs": [],
   "source": []
  }
 ],
 "metadata": {
  "kernelspec": {
   "display_name": "Python 3 (ipykernel)",
   "language": "python",
   "name": "python3"
  },
  "language_info": {
   "codemirror_mode": {
    "name": "ipython",
    "version": 3
   },
   "file_extension": ".py",
   "mimetype": "text/x-python",
   "name": "python",
   "nbconvert_exporter": "python",
   "pygments_lexer": "ipython3",
   "version": "3.10.2"
  }
 },
 "nbformat": 4,
 "nbformat_minor": 5
}
